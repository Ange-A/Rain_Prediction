{
 "cells": [
  {
   "cell_type": "code",
   "execution_count": 5,
   "id": "5ba431c5",
   "metadata": {},
   "outputs": [],
   "source": [
    "import pandas as pd\n",
    "import numpy as np\n",
    "import sklearn as sk\n",
    "from sklearn.linear_model import LinearRegression\n",
    "import matplotlib.pyplot as plt"
   ]
  },
  {
   "cell_type": "code",
   "execution_count": 6,
   "id": "81f29218",
   "metadata": {},
   "outputs": [],
   "source": [
    "data = pd.read_csv(\"austin_final.csv\")"
   ]
  },
  {
   "cell_type": "code",
   "execution_count": 7,
   "id": "6c09b284",
   "metadata": {},
   "outputs": [
    {
     "data": {
      "text/html": [
       "<div>\n",
       "<style scoped>\n",
       "    .dataframe tbody tr th:only-of-type {\n",
       "        vertical-align: middle;\n",
       "    }\n",
       "\n",
       "    .dataframe tbody tr th {\n",
       "        vertical-align: top;\n",
       "    }\n",
       "\n",
       "    .dataframe thead th {\n",
       "        text-align: right;\n",
       "    }\n",
       "</style>\n",
       "<table border=\"1\" class=\"dataframe\">\n",
       "  <thead>\n",
       "    <tr style=\"text-align: right;\">\n",
       "      <th></th>\n",
       "      <th>Unnamed: 0</th>\n",
       "      <th>TempHighF</th>\n",
       "      <th>TempAvgF</th>\n",
       "      <th>TempLowF</th>\n",
       "      <th>DewPointHighF</th>\n",
       "      <th>DewPointAvgF</th>\n",
       "      <th>DewPointLowF</th>\n",
       "      <th>HumidityHighPercent</th>\n",
       "      <th>HumidityAvgPercent</th>\n",
       "      <th>HumidityLowPercent</th>\n",
       "      <th>SeaLevelPressureAvgInches</th>\n",
       "      <th>VisibilityHighMiles</th>\n",
       "      <th>VisibilityAvgMiles</th>\n",
       "      <th>VisibilityLowMiles</th>\n",
       "      <th>WindHighMPH</th>\n",
       "      <th>WindAvgMPH</th>\n",
       "      <th>WindGustMPH</th>\n",
       "      <th>PrecipitationSumInches</th>\n",
       "    </tr>\n",
       "  </thead>\n",
       "  <tbody>\n",
       "    <tr>\n",
       "      <th>0</th>\n",
       "      <td>0</td>\n",
       "      <td>74</td>\n",
       "      <td>60</td>\n",
       "      <td>45</td>\n",
       "      <td>67.0</td>\n",
       "      <td>49.0</td>\n",
       "      <td>43.0</td>\n",
       "      <td>93.0</td>\n",
       "      <td>75.0</td>\n",
       "      <td>57.0</td>\n",
       "      <td>29.68</td>\n",
       "      <td>10.0</td>\n",
       "      <td>7.0</td>\n",
       "      <td>2.0</td>\n",
       "      <td>20.0</td>\n",
       "      <td>4.0</td>\n",
       "      <td>31.0</td>\n",
       "      <td>0.46</td>\n",
       "    </tr>\n",
       "    <tr>\n",
       "      <th>1</th>\n",
       "      <td>1</td>\n",
       "      <td>56</td>\n",
       "      <td>48</td>\n",
       "      <td>39</td>\n",
       "      <td>43.0</td>\n",
       "      <td>36.0</td>\n",
       "      <td>28.0</td>\n",
       "      <td>93.0</td>\n",
       "      <td>68.0</td>\n",
       "      <td>43.0</td>\n",
       "      <td>30.13</td>\n",
       "      <td>10.0</td>\n",
       "      <td>10.0</td>\n",
       "      <td>5.0</td>\n",
       "      <td>16.0</td>\n",
       "      <td>6.0</td>\n",
       "      <td>25.0</td>\n",
       "      <td>0.00</td>\n",
       "    </tr>\n",
       "    <tr>\n",
       "      <th>2</th>\n",
       "      <td>2</td>\n",
       "      <td>58</td>\n",
       "      <td>45</td>\n",
       "      <td>32</td>\n",
       "      <td>31.0</td>\n",
       "      <td>27.0</td>\n",
       "      <td>23.0</td>\n",
       "      <td>76.0</td>\n",
       "      <td>52.0</td>\n",
       "      <td>27.0</td>\n",
       "      <td>30.49</td>\n",
       "      <td>10.0</td>\n",
       "      <td>10.0</td>\n",
       "      <td>10.0</td>\n",
       "      <td>8.0</td>\n",
       "      <td>3.0</td>\n",
       "      <td>12.0</td>\n",
       "      <td>0.00</td>\n",
       "    </tr>\n",
       "    <tr>\n",
       "      <th>3</th>\n",
       "      <td>3</td>\n",
       "      <td>61</td>\n",
       "      <td>46</td>\n",
       "      <td>31</td>\n",
       "      <td>36.0</td>\n",
       "      <td>28.0</td>\n",
       "      <td>21.0</td>\n",
       "      <td>89.0</td>\n",
       "      <td>56.0</td>\n",
       "      <td>22.0</td>\n",
       "      <td>30.45</td>\n",
       "      <td>10.0</td>\n",
       "      <td>10.0</td>\n",
       "      <td>7.0</td>\n",
       "      <td>12.0</td>\n",
       "      <td>4.0</td>\n",
       "      <td>20.0</td>\n",
       "      <td>0.00</td>\n",
       "    </tr>\n",
       "    <tr>\n",
       "      <th>4</th>\n",
       "      <td>4</td>\n",
       "      <td>58</td>\n",
       "      <td>50</td>\n",
       "      <td>41</td>\n",
       "      <td>44.0</td>\n",
       "      <td>40.0</td>\n",
       "      <td>36.0</td>\n",
       "      <td>86.0</td>\n",
       "      <td>71.0</td>\n",
       "      <td>56.0</td>\n",
       "      <td>30.33</td>\n",
       "      <td>10.0</td>\n",
       "      <td>10.0</td>\n",
       "      <td>7.0</td>\n",
       "      <td>10.0</td>\n",
       "      <td>2.0</td>\n",
       "      <td>16.0</td>\n",
       "      <td>0.00</td>\n",
       "    </tr>\n",
       "    <tr>\n",
       "      <th>...</th>\n",
       "      <td>...</td>\n",
       "      <td>...</td>\n",
       "      <td>...</td>\n",
       "      <td>...</td>\n",
       "      <td>...</td>\n",
       "      <td>...</td>\n",
       "      <td>...</td>\n",
       "      <td>...</td>\n",
       "      <td>...</td>\n",
       "      <td>...</td>\n",
       "      <td>...</td>\n",
       "      <td>...</td>\n",
       "      <td>...</td>\n",
       "      <td>...</td>\n",
       "      <td>...</td>\n",
       "      <td>...</td>\n",
       "      <td>...</td>\n",
       "      <td>...</td>\n",
       "    </tr>\n",
       "    <tr>\n",
       "      <th>1314</th>\n",
       "      <td>1314</td>\n",
       "      <td>103</td>\n",
       "      <td>89</td>\n",
       "      <td>75</td>\n",
       "      <td>71.0</td>\n",
       "      <td>67.0</td>\n",
       "      <td>61.0</td>\n",
       "      <td>82.0</td>\n",
       "      <td>54.0</td>\n",
       "      <td>25.0</td>\n",
       "      <td>29.97</td>\n",
       "      <td>10.0</td>\n",
       "      <td>10.0</td>\n",
       "      <td>10.0</td>\n",
       "      <td>12.0</td>\n",
       "      <td>5.0</td>\n",
       "      <td>21.0</td>\n",
       "      <td>0.00</td>\n",
       "    </tr>\n",
       "    <tr>\n",
       "      <th>1315</th>\n",
       "      <td>1315</td>\n",
       "      <td>105</td>\n",
       "      <td>91</td>\n",
       "      <td>76</td>\n",
       "      <td>71.0</td>\n",
       "      <td>64.0</td>\n",
       "      <td>55.0</td>\n",
       "      <td>87.0</td>\n",
       "      <td>54.0</td>\n",
       "      <td>20.0</td>\n",
       "      <td>29.90</td>\n",
       "      <td>10.0</td>\n",
       "      <td>10.0</td>\n",
       "      <td>10.0</td>\n",
       "      <td>14.0</td>\n",
       "      <td>5.0</td>\n",
       "      <td>20.0</td>\n",
       "      <td>0.00</td>\n",
       "    </tr>\n",
       "    <tr>\n",
       "      <th>1316</th>\n",
       "      <td>1316</td>\n",
       "      <td>107</td>\n",
       "      <td>92</td>\n",
       "      <td>77</td>\n",
       "      <td>72.0</td>\n",
       "      <td>64.0</td>\n",
       "      <td>55.0</td>\n",
       "      <td>82.0</td>\n",
       "      <td>51.0</td>\n",
       "      <td>19.0</td>\n",
       "      <td>29.86</td>\n",
       "      <td>10.0</td>\n",
       "      <td>10.0</td>\n",
       "      <td>10.0</td>\n",
       "      <td>12.0</td>\n",
       "      <td>4.0</td>\n",
       "      <td>17.0</td>\n",
       "      <td>0.00</td>\n",
       "    </tr>\n",
       "    <tr>\n",
       "      <th>1317</th>\n",
       "      <td>1317</td>\n",
       "      <td>106</td>\n",
       "      <td>93</td>\n",
       "      <td>79</td>\n",
       "      <td>70.0</td>\n",
       "      <td>68.0</td>\n",
       "      <td>63.0</td>\n",
       "      <td>69.0</td>\n",
       "      <td>48.0</td>\n",
       "      <td>27.0</td>\n",
       "      <td>29.91</td>\n",
       "      <td>10.0</td>\n",
       "      <td>10.0</td>\n",
       "      <td>10.0</td>\n",
       "      <td>13.0</td>\n",
       "      <td>4.0</td>\n",
       "      <td>20.0</td>\n",
       "      <td>0.00</td>\n",
       "    </tr>\n",
       "    <tr>\n",
       "      <th>1318</th>\n",
       "      <td>1318</td>\n",
       "      <td>99</td>\n",
       "      <td>88</td>\n",
       "      <td>77</td>\n",
       "      <td>66.0</td>\n",
       "      <td>61.0</td>\n",
       "      <td>54.0</td>\n",
       "      <td>64.0</td>\n",
       "      <td>43.0</td>\n",
       "      <td>22.0</td>\n",
       "      <td>29.97</td>\n",
       "      <td>10.0</td>\n",
       "      <td>10.0</td>\n",
       "      <td>10.0</td>\n",
       "      <td>12.0</td>\n",
       "      <td>4.0</td>\n",
       "      <td>20.0</td>\n",
       "      <td>0.00</td>\n",
       "    </tr>\n",
       "  </tbody>\n",
       "</table>\n",
       "<p>1319 rows × 18 columns</p>\n",
       "</div>"
      ],
      "text/plain": [
       "      Unnamed: 0  TempHighF  TempAvgF  TempLowF  DewPointHighF  DewPointAvgF  \\\n",
       "0              0         74        60        45           67.0          49.0   \n",
       "1              1         56        48        39           43.0          36.0   \n",
       "2              2         58        45        32           31.0          27.0   \n",
       "3              3         61        46        31           36.0          28.0   \n",
       "4              4         58        50        41           44.0          40.0   \n",
       "...          ...        ...       ...       ...            ...           ...   \n",
       "1314        1314        103        89        75           71.0          67.0   \n",
       "1315        1315        105        91        76           71.0          64.0   \n",
       "1316        1316        107        92        77           72.0          64.0   \n",
       "1317        1317        106        93        79           70.0          68.0   \n",
       "1318        1318         99        88        77           66.0          61.0   \n",
       "\n",
       "      DewPointLowF  HumidityHighPercent  HumidityAvgPercent  \\\n",
       "0             43.0                 93.0                75.0   \n",
       "1             28.0                 93.0                68.0   \n",
       "2             23.0                 76.0                52.0   \n",
       "3             21.0                 89.0                56.0   \n",
       "4             36.0                 86.0                71.0   \n",
       "...            ...                  ...                 ...   \n",
       "1314          61.0                 82.0                54.0   \n",
       "1315          55.0                 87.0                54.0   \n",
       "1316          55.0                 82.0                51.0   \n",
       "1317          63.0                 69.0                48.0   \n",
       "1318          54.0                 64.0                43.0   \n",
       "\n",
       "      HumidityLowPercent  SeaLevelPressureAvgInches  VisibilityHighMiles  \\\n",
       "0                   57.0                      29.68                 10.0   \n",
       "1                   43.0                      30.13                 10.0   \n",
       "2                   27.0                      30.49                 10.0   \n",
       "3                   22.0                      30.45                 10.0   \n",
       "4                   56.0                      30.33                 10.0   \n",
       "...                  ...                        ...                  ...   \n",
       "1314                25.0                      29.97                 10.0   \n",
       "1315                20.0                      29.90                 10.0   \n",
       "1316                19.0                      29.86                 10.0   \n",
       "1317                27.0                      29.91                 10.0   \n",
       "1318                22.0                      29.97                 10.0   \n",
       "\n",
       "      VisibilityAvgMiles  VisibilityLowMiles  WindHighMPH  WindAvgMPH  \\\n",
       "0                    7.0                 2.0         20.0         4.0   \n",
       "1                   10.0                 5.0         16.0         6.0   \n",
       "2                   10.0                10.0          8.0         3.0   \n",
       "3                   10.0                 7.0         12.0         4.0   \n",
       "4                   10.0                 7.0         10.0         2.0   \n",
       "...                  ...                 ...          ...         ...   \n",
       "1314                10.0                10.0         12.0         5.0   \n",
       "1315                10.0                10.0         14.0         5.0   \n",
       "1316                10.0                10.0         12.0         4.0   \n",
       "1317                10.0                10.0         13.0         4.0   \n",
       "1318                10.0                10.0         12.0         4.0   \n",
       "\n",
       "      WindGustMPH  PrecipitationSumInches  \n",
       "0            31.0                    0.46  \n",
       "1            25.0                    0.00  \n",
       "2            12.0                    0.00  \n",
       "3            20.0                    0.00  \n",
       "4            16.0                    0.00  \n",
       "...           ...                     ...  \n",
       "1314         21.0                    0.00  \n",
       "1315         20.0                    0.00  \n",
       "1316         17.0                    0.00  \n",
       "1317         20.0                    0.00  \n",
       "1318         20.0                    0.00  \n",
       "\n",
       "[1319 rows x 18 columns]"
      ]
     },
     "execution_count": 7,
     "metadata": {},
     "output_type": "execute_result"
    }
   ],
   "source": [
    "data"
   ]
  },
  {
   "cell_type": "code",
   "execution_count": 23,
   "id": "378b54a7",
   "metadata": {},
   "outputs": [],
   "source": [
    "X = data.drop(['PrecipitationSumInches'], axis= 1)"
   ]
  },
  {
   "cell_type": "code",
   "execution_count": 24,
   "id": "4b804cf2",
   "metadata": {},
   "outputs": [],
   "source": [
    "Y = data['PrecipitationSumInches']"
   ]
  },
  {
   "cell_type": "code",
   "execution_count": 10,
   "id": "e6222f05",
   "metadata": {},
   "outputs": [
    {
     "data": {
      "text/plain": [
       "0       0.46\n",
       "1       0.00\n",
       "2       0.00\n",
       "3       0.00\n",
       "4       0.00\n",
       "        ... \n",
       "1314    0.00\n",
       "1315    0.00\n",
       "1316    0.00\n",
       "1317    0.00\n",
       "1318    0.00\n",
       "Name: PrecipitationSumInches, Length: 1319, dtype: float64"
      ]
     },
     "execution_count": 10,
     "metadata": {},
     "output_type": "execute_result"
    }
   ],
   "source": [
    "Y"
   ]
  },
  {
   "cell_type": "code",
   "execution_count": 11,
   "id": "034f2c96",
   "metadata": {},
   "outputs": [],
   "source": [
    "Y = Y.values.reshape(-1, 1)"
   ]
  },
  {
   "cell_type": "code",
   "execution_count": 12,
   "id": "7a628750",
   "metadata": {},
   "outputs": [
    {
     "data": {
      "text/plain": [
       "array([[0.46],\n",
       "       [0.  ],\n",
       "       [0.  ],\n",
       "       ...,\n",
       "       [0.  ],\n",
       "       [0.  ],\n",
       "       [0.  ]])"
      ]
     },
     "execution_count": 12,
     "metadata": {},
     "output_type": "execute_result"
    }
   ],
   "source": [
    "Y\n"
   ]
  },
  {
   "cell_type": "code",
   "execution_count": 13,
   "id": "f8282964",
   "metadata": {},
   "outputs": [],
   "source": [
    " day_index = 798\n"
   ]
  },
  {
   "cell_type": "code",
   "execution_count": 14,
   "id": "2b8fb851",
   "metadata": {},
   "outputs": [],
   "source": [
    " days = [i for i in range(Y.size)]"
   ]
  },
  {
   "cell_type": "code",
   "execution_count": 25,
   "id": "7250b016",
   "metadata": {},
   "outputs": [],
   "source": [
    "clf = LinearRegression()"
   ]
  },
  {
   "cell_type": "code",
   "execution_count": 26,
   "id": "479f5ed2",
   "metadata": {},
   "outputs": [
    {
     "data": {
      "text/html": [
       "<style>#sk-container-id-2 {color: black;}#sk-container-id-2 pre{padding: 0;}#sk-container-id-2 div.sk-toggleable {background-color: white;}#sk-container-id-2 label.sk-toggleable__label {cursor: pointer;display: block;width: 100%;margin-bottom: 0;padding: 0.3em;box-sizing: border-box;text-align: center;}#sk-container-id-2 label.sk-toggleable__label-arrow:before {content: \"▸\";float: left;margin-right: 0.25em;color: #696969;}#sk-container-id-2 label.sk-toggleable__label-arrow:hover:before {color: black;}#sk-container-id-2 div.sk-estimator:hover label.sk-toggleable__label-arrow:before {color: black;}#sk-container-id-2 div.sk-toggleable__content {max-height: 0;max-width: 0;overflow: hidden;text-align: left;background-color: #f0f8ff;}#sk-container-id-2 div.sk-toggleable__content pre {margin: 0.2em;color: black;border-radius: 0.25em;background-color: #f0f8ff;}#sk-container-id-2 input.sk-toggleable__control:checked~div.sk-toggleable__content {max-height: 200px;max-width: 100%;overflow: auto;}#sk-container-id-2 input.sk-toggleable__control:checked~label.sk-toggleable__label-arrow:before {content: \"▾\";}#sk-container-id-2 div.sk-estimator input.sk-toggleable__control:checked~label.sk-toggleable__label {background-color: #d4ebff;}#sk-container-id-2 div.sk-label input.sk-toggleable__control:checked~label.sk-toggleable__label {background-color: #d4ebff;}#sk-container-id-2 input.sk-hidden--visually {border: 0;clip: rect(1px 1px 1px 1px);clip: rect(1px, 1px, 1px, 1px);height: 1px;margin: -1px;overflow: hidden;padding: 0;position: absolute;width: 1px;}#sk-container-id-2 div.sk-estimator {font-family: monospace;background-color: #f0f8ff;border: 1px dotted black;border-radius: 0.25em;box-sizing: border-box;margin-bottom: 0.5em;}#sk-container-id-2 div.sk-estimator:hover {background-color: #d4ebff;}#sk-container-id-2 div.sk-parallel-item::after {content: \"\";width: 100%;border-bottom: 1px solid gray;flex-grow: 1;}#sk-container-id-2 div.sk-label:hover label.sk-toggleable__label {background-color: #d4ebff;}#sk-container-id-2 div.sk-serial::before {content: \"\";position: absolute;border-left: 1px solid gray;box-sizing: border-box;top: 0;bottom: 0;left: 50%;z-index: 0;}#sk-container-id-2 div.sk-serial {display: flex;flex-direction: column;align-items: center;background-color: white;padding-right: 0.2em;padding-left: 0.2em;position: relative;}#sk-container-id-2 div.sk-item {position: relative;z-index: 1;}#sk-container-id-2 div.sk-parallel {display: flex;align-items: stretch;justify-content: center;background-color: white;position: relative;}#sk-container-id-2 div.sk-item::before, #sk-container-id-2 div.sk-parallel-item::before {content: \"\";position: absolute;border-left: 1px solid gray;box-sizing: border-box;top: 0;bottom: 0;left: 50%;z-index: -1;}#sk-container-id-2 div.sk-parallel-item {display: flex;flex-direction: column;z-index: 1;position: relative;background-color: white;}#sk-container-id-2 div.sk-parallel-item:first-child::after {align-self: flex-end;width: 50%;}#sk-container-id-2 div.sk-parallel-item:last-child::after {align-self: flex-start;width: 50%;}#sk-container-id-2 div.sk-parallel-item:only-child::after {width: 0;}#sk-container-id-2 div.sk-dashed-wrapped {border: 1px dashed gray;margin: 0 0.4em 0.5em 0.4em;box-sizing: border-box;padding-bottom: 0.4em;background-color: white;}#sk-container-id-2 div.sk-label label {font-family: monospace;font-weight: bold;display: inline-block;line-height: 1.2em;}#sk-container-id-2 div.sk-label-container {text-align: center;}#sk-container-id-2 div.sk-container {/* jupyter's `normalize.less` sets `[hidden] { display: none; }` but bootstrap.min.css set `[hidden] { display: none !important; }` so we also need the `!important` here to be able to override the default hidden behavior on the sphinx rendered scikit-learn.org. See: https://github.com/scikit-learn/scikit-learn/issues/21755 */display: inline-block !important;position: relative;}#sk-container-id-2 div.sk-text-repr-fallback {display: none;}</style><div id=\"sk-container-id-2\" class=\"sk-top-container\"><div class=\"sk-text-repr-fallback\"><pre>LinearRegression()</pre><b>In a Jupyter environment, please rerun this cell to show the HTML representation or trust the notebook. <br />On GitHub, the HTML representation is unable to render, please try loading this page with nbviewer.org.</b></div><div class=\"sk-container\" hidden><div class=\"sk-item\"><div class=\"sk-estimator sk-toggleable\"><input class=\"sk-toggleable__control sk-hidden--visually\" id=\"sk-estimator-id-2\" type=\"checkbox\" checked><label for=\"sk-estimator-id-2\" class=\"sk-toggleable__label sk-toggleable__label-arrow\">LinearRegression</label><div class=\"sk-toggleable__content\"><pre>LinearRegression()</pre></div></div></div></div></div>"
      ],
      "text/plain": [
       "LinearRegression()"
      ]
     },
     "execution_count": 26,
     "metadata": {},
     "output_type": "execute_result"
    }
   ],
   "source": [
    "clf.fit(X,Y)"
   ]
  },
  {
   "cell_type": "code",
   "execution_count": 27,
   "id": "179cbcae",
   "metadata": {},
   "outputs": [],
   "source": [
    "inp = np.array([[74], [60], [45], [67], [49], [33], [54], [45],\n",
    "               [57], [29.68], [10], [7], [2], [0], [20],[4], [31]])"
   ]
  },
  {
   "cell_type": "code",
   "execution_count": 28,
   "id": "96670b89",
   "metadata": {},
   "outputs": [],
   "source": [
    "inp = inp.reshape(1, -1)"
   ]
  },
  {
   "cell_type": "code",
   "execution_count": 29,
   "id": "a1569d7f",
   "metadata": {},
   "outputs": [
    {
     "name": "stdout",
     "output_type": "stream",
     "text": [
      "The precipitation in inches for the input is: [1.89113509]\n"
     ]
    },
    {
     "name": "stderr",
     "output_type": "stream",
     "text": [
      "/Users/angeaduhire/opt/anaconda3/lib/python3.9/site-packages/sklearn/base.py:464: UserWarning: X does not have valid feature names, but LinearRegression was fitted with feature names\n",
      "  warnings.warn(\n"
     ]
    }
   ],
   "source": [
    "print('The precipitation in inches for the input is:', clf.predict(inp))"
   ]
  },
  {
   "cell_type": "code",
   "execution_count": 30,
   "id": "8980910a",
   "metadata": {},
   "outputs": [
    {
     "name": "stdout",
     "output_type": "stream",
     "text": [
      "the precipitation trend graph: \n"
     ]
    },
    {
     "data": {
      "text/plain": [
       "Text(0, 0.5, 'Precipitation in inches')"
      ]
     },
     "execution_count": 30,
     "metadata": {},
     "output_type": "execute_result"
    },
    {
     "data": {
      "image/png": "[encoded data removed]",
      "text/plain": [
       "<Figure size 640x480 with 1 Axes>"
      ]
     },
     "metadata": {},
     "output_type": "display_data"
    }
   ],
   "source": [
    "print('the precipitation trend graph: ')\n",
    "plt.scatter(days, Y, color= 'g')\n",
    "plt.title('Precipitation level')\n",
    "plt.xlabel('Days')\n",
    "plt.ylabel('Precipitation in inches')"
   ]
  },
  {
   "cell_type": "code",
   "execution_count": 31,
   "id": "e0556eb8",
   "metadata": {},
   "outputs": [
    {
     "name": "stdout",
     "output_type": "stream",
     "text": [
      "<class 'pandas.core.frame.DataFrame'>\n",
      "RangeIndex: 1319 entries, 0 to 1318\n",
      "Data columns (total 18 columns):\n",
      " #   Column                     Non-Null Count  Dtype  \n",
      "---  ------                     --------------  -----  \n",
      " 0   Unnamed: 0                 1319 non-null   int64  \n",
      " 1   TempHighF                  1319 non-null   int64  \n",
      " 2   TempAvgF                   1319 non-null   int64  \n",
      " 3   TempLowF                   1319 non-null   int64  \n",
      " 4   DewPointHighF              1319 non-null   float64\n",
      " 5   DewPointAvgF               1319 non-null   float64\n",
      " 6   DewPointLowF               1319 non-null   float64\n",
      " 7   HumidityHighPercent        1319 non-null   float64\n",
      " 8   HumidityAvgPercent         1319 non-null   float64\n",
      " 9   HumidityLowPercent         1319 non-null   float64\n",
      " 10  SeaLevelPressureAvgInches  1319 non-null   float64\n",
      " 11  VisibilityHighMiles        1319 non-null   float64\n",
      " 12  VisibilityAvgMiles         1319 non-null   float64\n",
      " 13  VisibilityLowMiles         1319 non-null   float64\n",
      " 14  WindHighMPH                1319 non-null   float64\n",
      " 15  WindAvgMPH                 1319 non-null   float64\n",
      " 16  WindGustMPH                1319 non-null   float64\n",
      " 17  PrecipitationSumInches     1319 non-null   float64\n",
      "dtypes: float64(14), int64(4)\n",
      "memory usage: 185.6 KB\n"
     ]
    }
   ],
   "source": [
    "data.info()"
   ]
  },
  {
   "cell_type": "code",
   "execution_count": 34,
   "id": "78ba3de4",
   "metadata": {},
   "outputs": [],
   "source": [
    "x_f = X.filter(['empAvgF', 'DewPointAvgF', 'HumidityAvgPercent ', \n",
    "               'SeaLevelPressureAvgInches', 'VisibilityAvgMiles', 'WindAvgMPH'], axis= 1)"
   ]
  },
  {
   "cell_type": "code",
   "execution_count": 36,
   "id": "4c3db4de",
   "metadata": {},
   "outputs": [
    {
     "name": "stdout",
     "output_type": "stream",
     "text": [
      "Precipitation Vs Selected Attributes Graph\n"
     ]
    },
    {
     "data": {
      "image/png": "[encoded data removed]",
      "text/plain": [
       "<Figure size 640x480 with 4 Axes>"
      ]
     },
     "metadata": {},
     "output_type": "display_data"
    }
   ],
   "source": [
    "print('Precipitation Vs Selected Attributes Graph')\n",
    "for i in range(x_f.columns.size):\n",
    "    plt.subplot(3,2, i+1)\n",
    "    plt.scatter(days, x_f[x_f.columns.values[i][:100]], color= 'g')\n",
    "    plt.scatter(days[day_index], x_f[x_f.columns.values[i]]\n",
    "               [day_index], color = 'r')\n",
    "    plt.title(x_f.columns.values[i])"
   ]
  },
  {
   "cell_type": "code",
   "execution_count": null,
   "id": "7d434548",
   "metadata": {},
   "outputs": [],
   "source": []
  }
 ],
 "metadata": {
  "kernelspec": {
   "display_name": "Python 3 (ipykernel)",
   "language": "python",
   "name": "python3"
  },
  "language_info": {
   "codemirror_mode": {
    "name": "ipython",
    "version": 3
   },
   "file_extension": ".py",
   "mimetype": "text/x-python",
   "name": "python",
   "nbconvert_exporter": "python",
   "pygments_lexer": "ipython3",
   "version": "3.9.13"
  }
 },
 "nbformat": 4,
 "nbformat_minor": 5
}
